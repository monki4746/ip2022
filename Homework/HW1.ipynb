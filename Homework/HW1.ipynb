
{
 "cells": [
  {
   "cell_type": "code",
   "execution_count": null,
   "metadata": {},
   "outputs": [],
   "source": [
    "import cv2\n",
    "from matplotlib.pyplot import vlines\n",
    "import numpy as np\n",
    "\n",
    "drawing = False # true if mouse is pressed\n",
    "ix,iy = 0,0\n",
    "value = 0\n",
    "tx,ty = 0, 0\n",
    "\n",
    "img = cv2.imread('mountain.jpg')\n",
    "b,g,r = cv2.split(img)\n",
    "dst = img.copy()\n",
    "\n",
    "\n",
    "def nothing(x):\n",
    "    pass\n",
    "\n",
    "# mouse callback function\n",
    "def draw_rectangle(event,x,y,flags,param):\n",
    "    global ix,iy,drawing, tx, ty, value , dst, dst2\n",
    "    dst=img.copy()\n",
    "    cv2.putText(dst,'Mouse position '+'('+str(ix)+','+str(iy)+')'+'-'+'('+str(tx)+','+str(ty)+')',(10,30), cv2.FONT_HERSHEY_SIMPLEX, 1, (255,255,255),2)\n",
    "\n",
    "    b = img[:,:,0]\n",
    "\n",
    "    if event == cv2.EVENT_LBUTTONDOWN:\n",
    "        drawing = True\n",
    "        ix,iy = x,y\n",
    "        \n",
    "\n",
    "    elif event == cv2.EVENT_MOUSEMOVE:\n",
    "        if drawing == True:\n",
    "            cv2.rectangle(dst,(ix,iy),(x,y),(0,255,0),2)\n",
    "\n",
    "    elif event == cv2.EVENT_LBUTTONUP:\n",
    "        drawing = False\n",
    "        cv2.rectangle(img,(ix,iy),(x,y),(0,255,0),2)\n",
    "        tx, ty = x,y\n",
    "\n",
    "\n",
    "\n",
    "\n",
    "cv2.namedWindow('image')\n",
    "cv2.createTrackbar ('value', 'image', 0, 255, nothing)\n",
    "cv2.setMouseCallback('image',draw_rectangle)\n",
    "\n",
    "while(1):\n",
    "    cv2.imshow('image',dst)\n",
    "    k = cv2.waitKey(1) & 0xFF\n",
    "    value = cv2.getTrackbarPos('value', 'image')\n",
    "    img[iy:ty,ix:tx,0] = value\n",
    "    img[iy:ty,ix:tx,1] = value\n",
    "    if k == 27:\n",
    "        break\n",
    "\n",
    "cv2.destroyAllWindows()"
   ]
  }
 ],
 "metadata": {
  "kernelspec": {
   "display_name": "Python 3.8.13 ('opencv')",
   "language": "python",
   "name": "python3"
  },
  "language_info": {
   "name": "python",
   "version": "3.8.13"
  },
  "orig_nbformat": 4,
  "vscode": {
   "interpreter": {
    "hash": "b347baf981f807596031fe4af3b08a1377679fa0c77bc5c6d99a64d5c2f6bb62"
   }
  }
 },
 "nbformat": 4,
 "nbformat_minor": 2
}
