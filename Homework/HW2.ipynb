{
 "cells": [
  {
   "cell_type": "code",
   "execution_count": 41,
   "metadata": {},
   "outputs": [],
   "source": [
    "import cv2\n",
    "import numpy as np\n",
    "\n",
    "#cap = cv2.VideoCapture(\"tracking2.avi\")\n",
    "cap = cv2.VideoCapture(0)\n",
    "\n",
    "while(1):\n",
    "    # Take each frame\n",
    "    ret, frame = cap.read()\n",
    "    # Convert BGR to HSV\n",
    "    if ret:\n",
    "        hsv = cv2.cvtColor(frame, cv2.COLOR_BGR2HSV)\n",
    "\n",
    "        # define range of blue color in HSV\n",
    "        lower_blue = np.array([29,80,80])           \n",
    "        upper_blue = np.array([60,255,255])\n",
    "\n",
    "        # Threshold the HSV image to get only blue colors\n",
    "        mask = cv2.inRange(hsv, lower_blue, upper_blue)\n",
    "\n",
    "        # Bitwise-AND mask and original image\n",
    "        res = cv2.bitwise_and(frame,frame, mask= mask)\n",
    "\n",
    "        cv2.imshow('frame',frame)\n",
    "        cv2.imshow('mask',mask)\n",
    "        cv2.imshow('res',res)\n",
    "    else:\n",
    "        break\n",
    "\n",
    "    k = cv2.waitKey(30) & 0xFF\n",
    "    if k == 27:\n",
    "        break\n",
    "\n",
    "cv2.destroyAllWindows()"
   ]
  }
 ],
 "metadata": {
  "kernelspec": {
   "display_name": "Python 3.8.13 ('opencv')",
   "language": "python",
   "name": "python3"
  },
  "language_info": {
   "codemirror_mode": {
    "name": "ipython",
    "version": 3
   },
   "file_extension": ".py",
   "mimetype": "text/x-python",
   "name": "python",
   "nbconvert_exporter": "python",
   "pygments_lexer": "ipython3",
   "version": "3.8.13"
  },
  "orig_nbformat": 4,
  "vscode": {
   "interpreter": {
    "hash": "b347baf981f807596031fe4af3b08a1377679fa0c77bc5c6d99a64d5c2f6bb62"
   }
  }
 },
 "nbformat": 4,
 "nbformat_minor": 2
}
