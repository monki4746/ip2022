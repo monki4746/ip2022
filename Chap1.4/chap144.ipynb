{
 "cells": [
  {
   "cell_type": "markdown",
   "metadata": {},
   "source": [
    "# 1.4.4 Smoothing Images"
   ]
  },
  {
   "cell_type": "markdown",
   "metadata": {},
   "source": [
    "## Kernel Convolution"
   ]
  },
  {
   "cell_type": "code",
   "execution_count": 22,
   "metadata": {},
   "outputs": [],
   "source": [
    "import cv2\n",
    "import numpy as np\n",
    "from matplotlib import pyplot as plt"
   ]
  },
  {
   "cell_type": "code",
   "execution_count": 23,
   "metadata": {},
   "outputs": [],
   "source": [
    "l=1\n",
    "kernel = np.array([[0,-1,0],[-1,4,-1],[0,-1,0]],np.float32)"
   ]
  },
  {
   "cell_type": "code",
   "execution_count": 24,
   "metadata": {},
   "outputs": [
    {
     "data": {
      "text/plain": [
       "array([[ 0., -1.,  0.],\n",
       "       [-1.,  4., -1.],\n",
       "       [ 0., -1.,  0.]], dtype=float32)"
      ]
     },
     "execution_count": 24,
     "metadata": {},
     "output_type": "execute_result"
    }
   ],
   "source": [
    "kernel"
   ]
  },
  {
   "cell_type": "code",
   "execution_count": 25,
   "metadata": {},
   "outputs": [],
   "source": [
    "img = np.random.randint(10, size=(12,12))\n",
    "#img = np.ones((10,10),np.float32)"
   ]
  },
  {
   "cell_type": "code",
   "execution_count": 26,
   "metadata": {},
   "outputs": [
    {
     "data": {
      "text/plain": [
       "array([[0, 4, 6, 5, 0, 6, 1, 2, 4, 9, 1, 2],\n",
       "       [6, 9, 4, 7, 1, 3, 8, 9, 5, 4, 8, 2],\n",
       "       [8, 8, 5, 0, 8, 7, 9, 3, 9, 9, 9, 4],\n",
       "       [7, 6, 7, 2, 6, 1, 6, 6, 7, 3, 5, 5],\n",
       "       [8, 9, 6, 7, 1, 7, 1, 1, 4, 8, 8, 0],\n",
       "       [7, 3, 9, 4, 7, 8, 6, 1, 5, 2, 5, 6],\n",
       "       [9, 7, 5, 3, 1, 6, 0, 4, 5, 7, 0, 8],\n",
       "       [5, 8, 2, 7, 7, 6, 6, 0, 8, 1, 2, 6],\n",
       "       [1, 4, 3, 4, 8, 7, 2, 1, 0, 4, 3, 7],\n",
       "       [5, 1, 6, 2, 9, 7, 9, 0, 9, 5, 4, 9],\n",
       "       [8, 0, 0, 3, 3, 8, 3, 7, 5, 1, 7, 9],\n",
       "       [5, 1, 7, 9, 0, 7, 0, 7, 6, 8, 2, 0]])"
      ]
     },
     "execution_count": 26,
     "metadata": {},
     "output_type": "execute_result"
    }
   ],
   "source": [
    "img"
   ]
  },
  {
   "cell_type": "code",
   "execution_count": 27,
   "metadata": {},
   "outputs": [],
   "source": [
    "h,w=img.shape"
   ]
  },
  {
   "cell_type": "code",
   "execution_count": 28,
   "metadata": {},
   "outputs": [
    {
     "name": "stdout",
     "output_type": "stream",
     "text": [
      "12 12\n"
     ]
    }
   ],
   "source": [
    "print(h,w)"
   ]
  },
  {
   "cell_type": "code",
   "execution_count": 29,
   "metadata": {},
   "outputs": [],
   "source": [
    "#[*range(-2,3)]"
   ]
  },
  {
   "cell_type": "code",
   "execution_count": 34,
   "metadata": {},
   "outputs": [],
   "source": [
    "dst = np.zeros((h,w),np.int)"
   ]
  },
  {
   "cell_type": "code",
   "execution_count": 35,
   "metadata": {},
   "outputs": [],
   "source": [
    "for i in range(l,h-l):\n",
    "    for j in range(l,w-l):\n",
    "        t=0\n",
    "        for p in range(-l,l+1):\n",
    "            for q in range(-l,l+1):\n",
    "                t += kernel[p+l,q+l]*img[i+p,j+q]\n",
    "        dst[i,j]=t        "
   ]
  },
  {
   "cell_type": "code",
   "execution_count": 36,
   "metadata": {},
   "outputs": [
    {
     "data": {
      "text/plain": [
       "array([[0, 4, 6, 5, 0, 6, 1, 2, 4, 9, 1, 2],\n",
       "       [6, 9, 4, 7, 1, 3, 8, 9, 5, 4, 8, 2],\n",
       "       [8, 8, 5, 0, 8, 7, 9, 3, 9, 9, 9, 4],\n",
       "       [7, 6, 7, 2, 6, 1, 6, 6, 7, 3, 5, 5],\n",
       "       [8, 9, 6, 7, 1, 7, 1, 1, 4, 8, 8, 0],\n",
       "       [7, 3, 9, 4, 7, 8, 6, 1, 5, 2, 5, 6],\n",
       "       [9, 7, 5, 3, 1, 6, 0, 4, 5, 7, 0, 8],\n",
       "       [5, 8, 2, 7, 7, 6, 6, 0, 8, 1, 2, 6],\n",
       "       [1, 4, 3, 4, 8, 7, 2, 1, 0, 4, 3, 7],\n",
       "       [5, 1, 6, 2, 9, 7, 9, 0, 9, 5, 4, 9],\n",
       "       [8, 0, 0, 3, 3, 8, 3, 7, 5, 1, 7, 9],\n",
       "       [5, 1, 7, 9, 0, 7, 0, 7, 6, 8, 2, 0]])"
      ]
     },
     "execution_count": 36,
     "metadata": {},
     "output_type": "execute_result"
    }
   ],
   "source": [
    "img"
   ]
  },
  {
   "cell_type": "code",
   "execution_count": 37,
   "metadata": {},
   "outputs": [
    {
     "data": {
      "text/plain": [
       "array([[  0,   0,   0,   0,   0,   0,   0,   0,   0,   0,   0,   0],\n",
       "       [  0,  14, -11,  18, -14, -10,  10,  18,  -6, -15,  16,   0],\n",
       "       [  0,   4,   1, -22,  18,   7,  12, -21,  12,  11,  10,   0],\n",
       "       [  0,  -7,   9, -12,  12, -22,   7,   7,   6, -17,  -5,   0],\n",
       "       [  0,  13,  -8,  15, -23,  17, -16,  -8,  -5,  15,  14,   0],\n",
       "       [  0, -20,  18, -10,  14,   6,  14, -12,   8, -17,   4,   0],\n",
       "       [  0,   3,  -1,  -5, -19,   9, -22,  10,  -4,  20, -22,   0],\n",
       "       [  0,  14, -15,  12,   6,  -2,  16, -19,  26, -17,  -2,   0],\n",
       "       [  0,   3,  -4,  -4,   5,   5, -15,   2, -22,   7,  -5,   0],\n",
       "       [  0, -11,  18, -14,  16,  -5,  24, -26,  26,   2,  -8,   0],\n",
       "       [  0, -10, -16,  -2,  -8,  12, -12,  13,  -3, -21,  12,   0],\n",
       "       [  0,   0,   0,   0,   0,   0,   0,   0,   0,   0,   0,   0]])"
      ]
     },
     "execution_count": 37,
     "metadata": {},
     "output_type": "execute_result"
    }
   ],
   "source": [
    "dst"
   ]
  },
  {
   "cell_type": "code",
   "execution_count": 38,
   "metadata": {},
   "outputs": [],
   "source": [
    "img = cv2.imread('lena.png', 0)"
   ]
  },
  {
   "cell_type": "code",
   "execution_count": 39,
   "metadata": {},
   "outputs": [],
   "source": [
    "h,w=img.shape"
   ]
  },
  {
   "cell_type": "code",
   "execution_count": 40,
   "metadata": {},
   "outputs": [],
   "source": [
    "dst = np.zeros((h-2*l,w-2*l),np.uint8)"
   ]
  },
  {
   "cell_type": "code",
   "execution_count": 41,
   "metadata": {},
   "outputs": [],
   "source": [
    "for i in range(l,h-l):\n",
    "    for j in range(l,w-l):\n",
    "        t=0\n",
    "        for p in range(-l,l+1):\n",
    "            for q in range(-l,l+1):\n",
    "                t += kernel[p+l,q+l]*img[i+p,j+q]\n",
    "        dst[i-l,j-l]=t "
   ]
  },
  {
   "cell_type": "code",
   "execution_count": 42,
   "metadata": {},
   "outputs": [],
   "source": [
    "cv2.imshow('img',img)\n",
    "cv2.imshow('dst',dst)\n",
    "cv2.waitKey(0)\n",
    "cv2.destroyAllWindows()"
   ]
  },
  {
   "cell_type": "code",
   "execution_count": null,
   "metadata": {},
   "outputs": [],
   "source": []
  }
 ],
 "metadata": {
  "kernelspec": {
   "display_name": "Python 3",
   "language": "python",
   "name": "python3"
  },
  "language_info": {
   "codemirror_mode": {
    "name": "ipython",
    "version": 3
   },
   "file_extension": ".py",
   "mimetype": "text/x-python",
   "name": "python",
   "nbconvert_exporter": "python",
   "pygments_lexer": "ipython3",
   "version": "3.8.5"
  }
 },
 "nbformat": 4,
 "nbformat_minor": 4
}
