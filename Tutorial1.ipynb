{
  "nbformat": 4,
  "nbformat_minor": 0,
  "metadata": {
    "colab": {
      "provenance": [],
      "collapsed_sections": []
    },
    "kernelspec": {
      "name": "python3",
      "display_name": "Python 3"
    },
    "language_info": {
      "name": "python"
    }
  },
  "cells": [
    {
      "cell_type": "code",
      "execution_count": 7,
      "metadata": {
        "colab": {
          "base_uri": "https://localhost:8080/",
          "height": 35
        },
        "id": "pfjcSx1T5_mF",
        "outputId": "9109a3d3-95c9-4bff-a624-4e5debd56e13"
      },
      "outputs": [
        {
          "output_type": "execute_result",
          "data": {
            "text/plain": [
              "'abc'"
            ],
            "application/vnd.google.colaboratory.intrinsic+json": {
              "type": "string"
            }
          },
          "metadata": {},
          "execution_count": 7
        }
      ],
      "source": [
        "tu = (23, 'abc', 4.56, (2,3), 'def')\n",
        "li = [\"abc\", 34, 4.34, 23]\n",
        "st = \"Hello World\"\n",
        "st = 'Hello World'\n",
        "st = \"\"\"This is a multi-line string that uses triple quotes.\"\"\"\n",
        "tu = (23, 'abc', 4.56, (2,3), 'def')\n",
        "tu[1] # Second item in the tuple."
      ]
    },
    {
      "cell_type": "code",
      "source": [
        "li = [\"abc\", 34, 4.34, 23]\n",
        "li[1] # Second item in the list."
      ],
      "metadata": {
        "colab": {
          "base_uri": "https://localhost:8080/"
        },
        "id": "_5NmftG38SE8",
        "outputId": "529cadab-bb2a-4172-f2ab-ec8faae1ec00"
      },
      "execution_count": 9,
      "outputs": [
        {
          "output_type": "execute_result",
          "data": {
            "text/plain": [
              "34"
            ]
          },
          "metadata": {},
          "execution_count": 9
        }
      ]
    },
    {
      "cell_type": "code",
      "source": [
        "st = \"Hello World\"\n",
        "st[1] # Second character in string."
      ],
      "metadata": {
        "colab": {
          "base_uri": "https://localhost:8080/",
          "height": 35
        },
        "id": "Ub-T7jHq8fCS",
        "outputId": "d2108271-df62-4980-d307-820213aad71c"
      },
      "execution_count": 8,
      "outputs": [
        {
          "output_type": "execute_result",
          "data": {
            "text/plain": [
              "'e'"
            ],
            "application/vnd.google.colaboratory.intrinsic+json": {
              "type": "string"
            }
          },
          "metadata": {},
          "execution_count": 8
        }
      ]
    },
    {
      "cell_type": "code",
      "source": [
        "t = (23, 'abc', 4.56, (2,3), 'def')\n",
        "t[-3]"
      ],
      "metadata": {
        "colab": {
          "base_uri": "https://localhost:8080/"
        },
        "id": "OyvxCI1Y9b2W",
        "outputId": "8b7f0620-555d-4c5a-c45b-bddae3f58578"
      },
      "execution_count": 10,
      "outputs": [
        {
          "output_type": "execute_result",
          "data": {
            "text/plain": [
              "4.56"
            ]
          },
          "metadata": {},
          "execution_count": 10
        }
      ]
    }
  ]
}